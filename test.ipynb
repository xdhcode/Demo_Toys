{
 "cells": [
  {
   "cell_type": "code",
   "execution_count": 8,
   "metadata": {},
   "outputs": [
    {
     "name": "stdout",
     "output_type": "stream",
     "text": [
      "1 1\n",
      "2 1\n",
      "1 1\n",
      "2 2\n",
      "3 2\n",
      "1 1\n",
      "2 1\n",
      "1 1\n",
      "2 2\n",
      "3 4\n",
      "1 1\n",
      "2 1\n",
      "1 1\n",
      "2 2\n",
      "3 6\n",
      "4 6\n",
      "1 1\n",
      "2 1\n",
      "1 1\n",
      "2 2\n",
      "3 2\n",
      "1 1\n",
      "2 1\n",
      "1 1\n",
      "2 2\n",
      "3 4\n",
      "1 1\n",
      "2 1\n",
      "1 1\n",
      "2 2\n",
      "3 6\n",
      "4 12\n",
      "1 1\n",
      "2 1\n",
      "1 1\n",
      "2 2\n",
      "3 2\n",
      "1 1\n",
      "2 1\n",
      "1 1\n",
      "2 2\n",
      "3 4\n",
      "1 1\n",
      "2 1\n",
      "1 1\n",
      "2 2\n",
      "3 6\n",
      "4 18\n",
      "1 1\n",
      "2 1\n",
      "1 1\n",
      "2 2\n",
      "3 2\n",
      "1 1\n",
      "2 1\n",
      "1 1\n",
      "2 2\n",
      "3 4\n",
      "1 1\n",
      "2 1\n",
      "1 1\n",
      "2 2\n",
      "3 6\n",
      "4 24\n"
     ]
    },
    {
     "data": {
      "text/plain": [
       "24"
      ]
     },
     "execution_count": 8,
     "metadata": {},
     "output_type": "execute_result"
    }
   ],
   "source": [
    "def factorial_recur(n: int) -> int:\n",
    "    \"\"\"阶乘阶（递归实现）\"\"\"\n",
    "    if n == 0:\n",
    "        return 1\n",
    "    count = 0\n",
    "    # 从 1 个分裂出 n 个\n",
    "    for _ in range(n):\n",
    "        count += factorial_recur(n - 1)\n",
    "        print(n,count)\n",
    "    return count\n",
    "factorial_recur(4)\n"
   ]
  }
 ],
 "metadata": {
  "kernelspec": {
   "display_name": "Python 3",
   "language": "python",
   "name": "python3"
  },
  "language_info": {
   "codemirror_mode": {
    "name": "ipython",
    "version": 3
   },
   "file_extension": ".py",
   "mimetype": "text/x-python",
   "name": "python",
   "nbconvert_exporter": "python",
   "pygments_lexer": "ipython3",
   "version": "3.8.8"
  }
 },
 "nbformat": 4,
 "nbformat_minor": 2
}
